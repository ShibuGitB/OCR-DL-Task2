{
 "cells": [
  {
   "cell_type": "markdown",
   "metadata": {},
   "source": [
    "Text detection from Image"
   ]
  },
  {
   "cell_type": "code",
   "execution_count": 1,
   "metadata": {},
   "outputs": [],
   "source": [
    "import cv2 \n",
    "\n",
    "img=cv2.imread(r\"C:\\Users\\shibu\\OneDrive\\Documents\\Deep learning projects\\ocr\\WhatsApp Image 2024-03-14 at 11.52.14_689971a7.jpg\") \n",
    "# cv2.imshow(\"image\",img) \n",
    "# cv2.waitKey() \n",
    "# cv2.destroyAllWindows() "
   ]
  },
  {
   "cell_type": "code",
   "execution_count": 2,
   "metadata": {},
   "outputs": [],
   "source": [
    "import pytesseract \n",
    "pytesseract.pytesseract.tesseract_cmd=r\"C:\\Program Files\\Tesseract-OCR\\tesseract.exe\""
   ]
  },
  {
   "cell_type": "code",
   "execution_count": 3,
   "metadata": {},
   "outputs": [
    {
     "data": {
      "text/plain": [
       "'MoonShine\\n'"
      ]
     },
     "execution_count": 3,
     "metadata": {},
     "output_type": "execute_result"
    }
   ],
   "source": [
    "text=pytesseract.image_to_string(img) \n",
    "text"
   ]
  },
  {
   "cell_type": "code",
   "execution_count": 4,
   "metadata": {},
   "outputs": [
    {
     "data": {
      "text/plain": [
       "{'level': [1, 2, 3, 4, 5],\n",
       " 'page_num': [1, 1, 1, 1, 1],\n",
       " 'block_num': [0, 1, 1, 1, 1],\n",
       " 'par_num': [0, 0, 1, 1, 1],\n",
       " 'line_num': [0, 0, 0, 1, 1],\n",
       " 'word_num': [0, 0, 0, 0, 1],\n",
       " 'left': [0, 43, 43, 43, 43],\n",
       " 'top': [0, 75, 75, 75, 75],\n",
       " 'width': [291, 210, 210, 210, 210],\n",
       " 'height': [173, 32, 32, 32, 32],\n",
       " 'conf': [-1, -1, -1, -1, 91],\n",
       " 'text': ['', '', '', '', 'MoonShine']}"
      ]
     },
     "execution_count": 4,
     "metadata": {},
     "output_type": "execute_result"
    }
   ],
   "source": [
    "data=pytesseract.image_to_data(img,output_type=pytesseract.Output.DICT) \n",
    "data"
   ]
  },
  {
   "cell_type": "code",
   "execution_count": 5,
   "metadata": {},
   "outputs": [
    {
     "data": {
      "text/plain": [
       "5"
      ]
     },
     "execution_count": 5,
     "metadata": {},
     "output_type": "execute_result"
    }
   ],
   "source": [
    "n=len(data[\"text\"]) \n",
    "n"
   ]
  },
  {
   "cell_type": "code",
   "execution_count": 7,
   "metadata": {},
   "outputs": [],
   "source": [
    "for i in range (n) : \n",
    "    \n",
    "    if data[\"conf\"][i] > 70 : \n",
    "        \n",
    "        x=data[\"left\"][i] \n",
    "        y=data[\"top\"][i] \n",
    "        w=data[\"width\"][i] \n",
    "        h=data[\"height\"][i] \n",
    "        \n",
    "        cv2.rectangle(img,(x,y),(x+w,y+h),color=(255,255,255),thickness=4) \n",
    "        \n",
    "cv2.imshow(\"text image\",img) \n",
    "cv2.waitKey() \n",
    "cv2.destroyAllWindows() "
   ]
  }
 ],
 "metadata": {
  "kernelspec": {
   "display_name": "Python 3",
   "language": "python",
   "name": "python3"
  },
  "language_info": {
   "codemirror_mode": {
    "name": "ipython",
    "version": 3
   },
   "file_extension": ".py",
   "mimetype": "text/x-python",
   "name": "python",
   "nbconvert_exporter": "python",
   "pygments_lexer": "ipython3",
   "version": "3.11.8"
  }
 },
 "nbformat": 4,
 "nbformat_minor": 2
}

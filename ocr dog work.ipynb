{
 "cells": [
  {
   "cell_type": "code",
   "execution_count": 1,
   "metadata": {},
   "outputs": [],
   "source": [
    "import cv2 \n",
    "\n",
    "img=cv2.imread(r\"C:\\Users\\shibu\\OneDrive\\Documents\\Deep learning projects\\ocr\\WhatsApp Image 2024-03-14 at 11.52.15_bcc87c8d.jpg\") "
   ]
  },
  {
   "cell_type": "code",
   "execution_count": 2,
   "metadata": {},
   "outputs": [],
   "source": [
    "import pytesseract \n",
    "\n",
    "pytesseract.pytesseract.tesseract_cmd=r\"C:\\Program Files\\Tesseract-OCR\\tesseract.exe\""
   ]
  },
  {
   "cell_type": "code",
   "execution_count": 4,
   "metadata": {},
   "outputs": [
    {
     "name": "stdout",
     "output_type": "stream",
     "text": [
      "This is a lot of 12 point text to test the\n",
      "ocr code and see if it works on all types\n",
      "of file format.\n",
      "\n",
      "The quick brown dog jumped over the\n",
      "lazy fox. The quick brown dog jumped\n",
      "over the lazy fox. The quick brown dog\n",
      "jumped over the lazy fox. The quick\n",
      "brown dog jumped over the lazy fox.\n",
      "\n"
     ]
    }
   ],
   "source": [
    "text=pytesseract.image_to_string(img) \n",
    "print (text)"
   ]
  },
  {
   "cell_type": "code",
   "execution_count": 13,
   "metadata": {},
   "outputs": [
    {
     "name": "stdout",
     "output_type": "stream",
     "text": [
      "{'level': [1, 2, 3, 4, 5, 5, 5, 5, 5, 5, 5, 5, 5, 5, 5, 4, 5, 5, 5, 5, 5, 5, 5, 5, 5, 5, 4, 5, 5, 5, 3, 4, 5, 5, 5, 5, 5, 5, 5, 4, 5, 5, 5, 5, 5, 5, 5, 4, 5, 5, 5, 5, 5, 5, 5, 5, 4, 5, 5, 5, 5, 5, 5, 5, 4, 5, 5, 5, 5, 5, 5, 5], 'page_num': [1, 1, 1, 1, 1, 1, 1, 1, 1, 1, 1, 1, 1, 1, 1, 1, 1, 1, 1, 1, 1, 1, 1, 1, 1, 1, 1, 1, 1, 1, 1, 1, 1, 1, 1, 1, 1, 1, 1, 1, 1, 1, 1, 1, 1, 1, 1, 1, 1, 1, 1, 1, 1, 1, 1, 1, 1, 1, 1, 1, 1, 1, 1, 1, 1, 1, 1, 1, 1, 1, 1, 1], 'block_num': [0, 1, 1, 1, 1, 1, 1, 1, 1, 1, 1, 1, 1, 1, 1, 1, 1, 1, 1, 1, 1, 1, 1, 1, 1, 1, 1, 1, 1, 1, 1, 1, 1, 1, 1, 1, 1, 1, 1, 1, 1, 1, 1, 1, 1, 1, 1, 1, 1, 1, 1, 1, 1, 1, 1, 1, 1, 1, 1, 1, 1, 1, 1, 1, 1, 1, 1, 1, 1, 1, 1, 1], 'par_num': [0, 0, 1, 1, 1, 1, 1, 1, 1, 1, 1, 1, 1, 1, 1, 1, 1, 1, 1, 1, 1, 1, 1, 1, 1, 1, 1, 1, 1, 1, 2, 2, 2, 2, 2, 2, 2, 2, 2, 2, 2, 2, 2, 2, 2, 2, 2, 2, 2, 2, 2, 2, 2, 2, 2, 2, 2, 2, 2, 2, 2, 2, 2, 2, 2, 2, 2, 2, 2, 2, 2, 2], 'line_num': [0, 0, 0, 1, 1, 1, 1, 1, 1, 1, 1, 1, 1, 1, 1, 2, 2, 2, 2, 2, 2, 2, 2, 2, 2, 2, 3, 3, 3, 3, 0, 1, 1, 1, 1, 1, 1, 1, 1, 2, 2, 2, 2, 2, 2, 2, 2, 3, 3, 3, 3, 3, 3, 3, 3, 3, 4, 4, 4, 4, 4, 4, 4, 4, 5, 5, 5, 5, 5, 5, 5, 5], 'word_num': [0, 0, 0, 0, 1, 2, 3, 4, 5, 6, 7, 8, 9, 10, 11, 0, 1, 2, 3, 4, 5, 6, 7, 8, 9, 10, 0, 1, 2, 3, 0, 0, 1, 2, 3, 4, 5, 6, 7, 0, 1, 2, 3, 4, 5, 6, 7, 0, 1, 2, 3, 4, 5, 6, 7, 8, 0, 1, 2, 3, 4, 5, 6, 7, 0, 1, 2, 3, 4, 5, 6, 7], 'left': [0, 36, 36, 36, 36, 109, 141, 169, 212, 251, 296, 374, 437, 474, 536, 36, 36, 91, 172, 236, 299, 325, 348, 445, 500, 541, 36, 36, 72, 123, 36, 36, 36, 102, 189, 287, 348, 468, 540, 37, 37, 103, 165, 232, 319, 417, 478, 36, 36, 109, 165, 231, 294, 360, 447, 545, 43, 43, 162, 235, 292, 357, 420, 486, 37, 37, 135, 196, 316, 388, 445, 511], 'top': [0, 92, 92, 92, 92, 92, 98, 92, 92, 92, 92, 93, 93, 93, 92, 126, 132, 126, 126, 132, 126, 126, 126, 132, 126, 127, 160, 160, 160, 160, 194, 194, 194, 194, 194, 194, 194, 200, 194, 228, 228, 228, 228, 228, 228, 228, 228, 262, 268, 262, 262, 262, 262, 262, 262, 262, 296, 296, 302, 296, 296, 296, 296, 296, 330, 330, 330, 330, 336, 330, 330, 330], 'width': [640, 582, 582, 544, 60, 20, 15, 32, 28, 31, 68, 53, 26, 52, 44, 582, 45, 69, 51, 50, 15, 14, 85, 33, 29, 77, 187, 28, 41, 100, 561, 549, 55, 75, 85, 52, 108, 63, 45, 548, 55, 50, 55, 75, 85, 51, 107, 561, 63, 44, 56, 50, 55, 75, 85, 52, 518, 107, 64, 44, 55, 50, 55, 75, 524, 85, 52, 108, 63, 45, 55, 50], 'height': [480, 269, 92, 30, 24, 24, 18, 24, 24, 24, 30, 23, 23, 23, 24, 31, 18, 24, 24, 18, 24, 24, 24, 18, 24, 30, 24, 24, 24, 24, 167, 31, 24, 30, 24, 31, 31, 18, 24, 31, 31, 24, 24, 30, 24, 31, 31, 31, 18, 24, 31, 24, 24, 30, 24, 31, 31, 31, 18, 24, 31, 24, 24, 30, 31, 24, 31, 31, 18, 24, 31, 24], 'conf': [-1, -1, -1, -1, 96, 96, 96, 96, 96, 96, 96, 96, 96, 96, 96, -1, 95, 95, 96, 96, 93, 93, 96, 93, 93, 96, -1, 96, 95, 95, -1, -1, 96, 96, 96, 96, 96, 96, 96, -1, 96, 96, 96, 96, 96, 96, 95, -1, 96, 96, 96, 96, 96, 96, 96, 96, -1, 96, 96, 96, 95, 96, 96, 96, -1, 96, 96, 96, 96, 96, 95, 96], 'text': ['', '', '', '', 'This', 'is', 'a', 'lot', 'of', '12', 'point', 'text', 'to', 'test', 'the', '', 'ocr', 'code', 'and', 'see', 'if', 'it', 'works', 'on', 'all', 'types', '', 'of', 'file', 'format.', '', '', 'The', 'quick', 'brown', 'dog', 'jumped', 'over', 'the', '', 'lazy', 'fox.', 'The', 'quick', 'brown', 'dog', 'jumped', '', 'over', 'the', 'lazy', 'fox.', 'The', 'quick', 'brown', 'dog', '', 'jumped', 'over', 'the', 'lazy', 'fox.', 'The', 'quick', '', 'brown', 'dog', 'jumped', 'over', 'the', 'lazy', 'fox.']}\n"
     ]
    }
   ],
   "source": [
    "data=pytesseract.image_to_data(img,output_type=pytesseract.Output.DICT) \n",
    "print (data)"
   ]
  },
  {
   "cell_type": "code",
   "execution_count": 12,
   "metadata": {},
   "outputs": [
    {
     "data": {
      "text/plain": [
       "72"
      ]
     },
     "execution_count": 12,
     "metadata": {},
     "output_type": "execute_result"
    }
   ],
   "source": [
    "n=len(data[\"text\"]) \n",
    "n"
   ]
  },
  {
   "cell_type": "code",
   "execution_count": 15,
   "metadata": {},
   "outputs": [],
   "source": [
    "for i in range (n) : \n",
    "    \n",
    "    if data[\"text\"][i]==\"dog\" : \n",
    "        \n",
    "        x=data[\"left\"][i] \n",
    "        y=data[\"top\"][i] \n",
    "        w=data[\"width\"][i] \n",
    "        h=data[\"height\"][i] \n",
    "        \n",
    "        cv2.rectangle(img,(x,y),(x+w,y+h),color=(0,0,0),thickness=4) \n",
    "        \n",
    "cv2.imshow(\"dog image\",img) \n",
    "cv2.waitKey() \n",
    "cv2.destroyAllWindows() "
   ]
  }
 ],
 "metadata": {
  "kernelspec": {
   "display_name": "Python 3",
   "language": "python",
   "name": "python3"
  },
  "language_info": {
   "codemirror_mode": {
    "name": "ipython",
    "version": 3
   },
   "file_extension": ".py",
   "mimetype": "text/x-python",
   "name": "python",
   "nbconvert_exporter": "python",
   "pygments_lexer": "ipython3",
   "version": "3.11.8"
  }
 },
 "nbformat": 4,
 "nbformat_minor": 2
}
